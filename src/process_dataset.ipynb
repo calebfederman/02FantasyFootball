{
 "cells": [
  {
   "attachments": {},
   "cell_type": "markdown",
   "metadata": {},
   "source": [
    "# Process Data"
   ]
  },
  {
   "cell_type": "code",
   "execution_count": 83,
   "metadata": {},
   "outputs": [],
   "source": [
    "import pandas as pd"
   ]
  },
  {
   "cell_type": "code",
   "execution_count": 84,
   "metadata": {},
   "outputs": [],
   "source": [
    "\n",
    "current_year = 2022\n",
    "\n",
    "for x in range(2010,current_year+1):\n",
    "    df = pd.read_csv(f\"../data/raw/r{x}.csv\")\n",
    "\n",
    "    columns = ['Player','Bye','Pts','passAtt','passCmp','passYds','passTD','passInt','pass2pt',\n",
    "            'rushAtt','rushYds','rushTD','ru2pt','rec','recYds','recTD','rec2pt','FL','FLTD']\n",
    "\n",
    "    df.columns = columns\n",
    "    df = df.drop(labels=0, axis=0)\n",
    "\n",
    "\n",
    "    for ind in df.index:\n",
    "        df.loc[ind].at['Player'] = df.loc[ind].at['Player'][:df.loc[ind].at['Player'].find('.')-1]\n",
    "\n",
    "    df.to_csv(f'../data/processed/p{x}.csv', index=False)\n"
   ]
  }
 ],
 "metadata": {
  "kernelspec": {
   "display_name": "Python 3",
   "language": "python",
   "name": "python3"
  },
  "language_info": {
   "codemirror_mode": {
    "name": "ipython",
    "version": 3
   },
   "file_extension": ".py",
   "mimetype": "text/x-python",
   "name": "python",
   "nbconvert_exporter": "python",
   "pygments_lexer": "ipython3",
   "version": "3.11.1 (tags/v3.11.1:a7a450f, Dec  6 2022, 19:58:39) [MSC v.1934 64 bit (AMD64)]"
  },
  "orig_nbformat": 4,
  "vscode": {
   "interpreter": {
    "hash": "9fffa1fd4f4aff4007db36a593ae7a6873656ff259fede7a7bbf84056ec30413"
   }
  }
 },
 "nbformat": 4,
 "nbformat_minor": 2
}
