{
 "cells": [
  {
   "attachments": {},
   "cell_type": "markdown",
   "metadata": {},
   "source": [
    "# Create plot of frequencies of point totals by position"
   ]
  },
  {
   "cell_type": "code",
   "execution_count": 587,
   "metadata": {},
   "outputs": [],
   "source": [
    "import pandas as pd"
   ]
  },
  {
   "cell_type": "code",
   "execution_count": 588,
   "metadata": {},
   "outputs": [
    {
     "data": {
      "text/html": [
       "<div>\n",
       "<style scoped>\n",
       "    .dataframe tbody tr th:only-of-type {\n",
       "        vertical-align: middle;\n",
       "    }\n",
       "\n",
       "    .dataframe tbody tr th {\n",
       "        vertical-align: top;\n",
       "    }\n",
       "\n",
       "    .dataframe thead th {\n",
       "        text-align: right;\n",
       "    }\n",
       "</style>\n",
       "<table border=\"1\" class=\"dataframe\">\n",
       "  <thead>\n",
       "    <tr style=\"text-align: right;\">\n",
       "      <th></th>\n",
       "      <th>0.0</th>\n",
       "      <th>0.1</th>\n",
       "      <th>0.2</th>\n",
       "      <th>0.3</th>\n",
       "      <th>0.4</th>\n",
       "      <th>0.5</th>\n",
       "      <th>0.6</th>\n",
       "      <th>0.7</th>\n",
       "      <th>0.8</th>\n",
       "      <th>0.9</th>\n",
       "      <th>1.0</th>\n",
       "    </tr>\n",
       "  </thead>\n",
       "  <tbody>\n",
       "    <tr>\n",
       "      <th>QB</th>\n",
       "      <td>361</td>\n",
       "      <td>141</td>\n",
       "      <td>80</td>\n",
       "      <td>60</td>\n",
       "      <td>70</td>\n",
       "      <td>83</td>\n",
       "      <td>94</td>\n",
       "      <td>43</td>\n",
       "      <td>29</td>\n",
       "      <td>11</td>\n",
       "      <td>2</td>\n",
       "    </tr>\n",
       "    <tr>\n",
       "      <th>RB</th>\n",
       "      <td>863</td>\n",
       "      <td>481</td>\n",
       "      <td>288</td>\n",
       "      <td>192</td>\n",
       "      <td>138</td>\n",
       "      <td>83</td>\n",
       "      <td>38</td>\n",
       "      <td>20</td>\n",
       "      <td>12</td>\n",
       "      <td>1</td>\n",
       "      <td>1</td>\n",
       "    </tr>\n",
       "    <tr>\n",
       "      <th>WR</th>\n",
       "      <td>829</td>\n",
       "      <td>609</td>\n",
       "      <td>382</td>\n",
       "      <td>291</td>\n",
       "      <td>233</td>\n",
       "      <td>150</td>\n",
       "      <td>89</td>\n",
       "      <td>46</td>\n",
       "      <td>14</td>\n",
       "      <td>4</td>\n",
       "      <td>1</td>\n",
       "    </tr>\n",
       "    <tr>\n",
       "      <th>TE</th>\n",
       "      <td>519</td>\n",
       "      <td>349</td>\n",
       "      <td>209</td>\n",
       "      <td>119</td>\n",
       "      <td>106</td>\n",
       "      <td>62</td>\n",
       "      <td>34</td>\n",
       "      <td>20</td>\n",
       "      <td>7</td>\n",
       "      <td>5</td>\n",
       "      <td>2</td>\n",
       "    </tr>\n",
       "  </tbody>\n",
       "</table>\n",
       "</div>"
      ],
      "text/plain": [
       "    0.0  0.1  0.2  0.3  0.4  0.5  0.6  0.7  0.8  0.9  1.0\n",
       "QB  361  141   80   60   70   83   94   43   29   11    2\n",
       "RB  863  481  288  192  138   83   38   20   12    1    1\n",
       "WR  829  609  382  291  233  150   89   46   14    4    1\n",
       "TE  519  349  209  119  106   62   34   20    7    5    2"
      ]
     },
     "execution_count": 588,
     "metadata": {},
     "output_type": "execute_result"
    }
   ],
   "source": [
    "pos = ['QB','RB','WR','TE']\n",
    "\n",
    "current_year = 2022\n",
    "\n",
    "#for x in range(2010,current_year+1):\n",
    "raw_df = pd.read_csv(f\"../data/processed/pTotal.csv\")\n",
    "\n",
    "df_qb = raw_df.loc[raw_df['Pos'] == 'QB']\n",
    "df_rb = raw_df.loc[raw_df['Pos'] == 'RB']\n",
    "df_wr = raw_df.loc[raw_df['Pos'] == 'WR']\n",
    "df_te = raw_df.loc[raw_df['Pos'] == 'TE']\n",
    "\n",
    "df = pd.DataFrame(0, index=pos, columns=[0, 0.1, 0.2, 0.3, 0.4, 0.5, 0.6, 0.7, 0.8, 0.9, 1])\n",
    "\n",
    "perc_qb = round(df_qb.Pts / 500,1)\n",
    "perc_rb = round(df_rb.Pts / 500,1)\n",
    "perc_wr = round(df_wr.Pts / 500,1)\n",
    "perc_te = round(df_te.Pts / 500,1)\n",
    "\n",
    "for ind in raw_df.index:\n",
    "    total = 500\n",
    "    if (raw_df.loc[ind].at['Pos'] == 'QB'):\n",
    "        total = df_qb.Pts.max()\n",
    "    if (raw_df.loc[ind].at['Pos'] == 'RB'):\n",
    "        total = df_rb.Pts.max()\n",
    "    if (raw_df.loc[ind].at['Pos'] == 'WR'):\n",
    "        total = df_wr.Pts.max()\n",
    "    if (raw_df.loc[ind].at['Pos'] == 'TE'):\n",
    "        total = df_te.Pts.max()\n",
    "    p = round((raw_df.loc[ind].at['Pts'])/total, 1)\n",
    "    df.at[raw_df.loc[ind].at['Pos'],p] += 1\n",
    "\n",
    "df.head()\n"
   ]
  },
  {
   "cell_type": "code",
   "execution_count": 589,
   "metadata": {},
   "outputs": [
    {
     "data": {
      "image/png": "[encoded data removed]",
      "text/plain": [
       "<Figure size 2000x300 with 4 Axes>"
      ]
     },
     "metadata": {},
     "output_type": "display_data"
    }
   ],
   "source": [
    "%matplotlib inline\n",
    "import matplotlib.pyplot as plt\n",
    "\n",
    "def plot_position(position, ax):\n",
    "    positions = df.loc[position]\n",
    "    positions = positions / positions.sum() * 100\n",
    "    positions = positions[:10]\n",
    "    ax.text(-0.6, 0.5, position, size=32,\n",
    "            verticalalignment=\"center\", horizontalalignment=\"center\",\n",
    "            transform=ax.transAxes)\n",
    "    positions.plot.bar(ax=ax, width=1, color=\"0.7\")\n",
    "    \n",
    "fig, axes = plt.subplots(ncols=4, figsize=(20, 3))\n",
    "\n",
    "plt.subplots_adjust(wspace=1)\n",
    "plot_position(\"QB\", axes[0])\n",
    "plot_position(\"RB\", axes[1])\n",
    "plot_position(\"WR\", axes[2])\n",
    "plot_position(\"TE\", axes[3])\n",
    "\n",
    "fig.savefig(f\"../models/mTotal.png\", bbox_inches=\"tight\")"
   ]
  }
 ],
 "metadata": {
  "kernelspec": {
   "display_name": "Python 3",
   "language": "python",
   "name": "python3"
  },
  "language_info": {
   "codemirror_mode": {
    "name": "ipython",
    "version": 3
   },
   "file_extension": ".py",
   "mimetype": "text/x-python",
   "name": "python",
   "nbconvert_exporter": "python",
   "pygments_lexer": "ipython3",
   "version": "3.11.1"
  },
  "orig_nbformat": 4,
  "vscode": {
   "interpreter": {
    "hash": "9fffa1fd4f4aff4007db36a593ae7a6873656ff259fede7a7bbf84056ec30413"
   }
  }
 },
 "nbformat": 4,
 "nbformat_minor": 2
}
