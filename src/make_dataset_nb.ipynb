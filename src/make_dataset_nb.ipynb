{
 "cells": [
  {
   "attachments": {},
   "cell_type": "markdown",
   "metadata": {},
   "source": [
    "# Fantasy Football Data Analysis"
   ]
  },
  {
   "cell_type": "code",
   "execution_count": 1,
   "metadata": {},
   "outputs": [],
   "source": [
    "import requests\n",
    "from bs4 import BeautifulSoup\n",
    "import pandas as pd"
   ]
  },
  {
   "cell_type": "code",
   "execution_count": 2,
   "metadata": {},
   "outputs": [],
   "source": [
    "#----------------------------------------------------------------------------------------------------#\n",
    "#   Function: get_df()\n",
    "#   Description: Gets dataframe from HTML table at given URL\n",
    "#   Arguments: URL - url of the web page where the table resides\n",
    "#\n",
    "#   Note: in order to use for other tables, need to change class in soup.find_all() function\n",
    "#----------------------------------------------------------------------------------------------------#\n",
    "def get_df(URL):\n",
    "\n",
    "    headers = {\"User-Agent\": \"Mozilla/5.0 (Windows NT 10.0; Win64; x64) AppleWebKit/537.36 (KHTML, like Gecko) Chrome/109.0.0.0 Safari/537.36\"}\n",
    "    response = requests.get(URL, headers=headers)\n",
    "    soup = BeautifulSoup(response.text, \"html.parser\")\n",
    "\n",
    "    table = soup.find_all(\"table\",{\"class\":\"statistics scrollable\"})\n",
    "\n",
    "    data_frame = pd.read_html(str(table))[0]\n",
    "\n",
    "    return(data_frame)\n"
   ]
  },
  {
   "cell_type": "code",
   "execution_count": null,
   "metadata": {},
   "outputs": [],
   "source": [
    "# class to create Year objects which store the year and corresponding dataframe\n",
    "class Year:\n",
    "    def __init__(self, year, df):\n",
    "        self.year = year\n",
    "        self.df = df"
   ]
  },
  {
   "cell_type": "code",
   "execution_count": 3,
   "metadata": {},
   "outputs": [],
   "source": [
    "current_year = 2022\n",
    "years = []\n",
    "\n",
    "# create Year objects and store them in years list - Year objects contain the year of the season and the corresponding dataframe\n",
    "\n",
    "for x in range(2010,current_year+1):\n",
    "    data_frame = get_df(f\"https://www.footballdb.com/fantasy-football/index.html?pos=OFF&yr={x}&wk=all&key=b6406b7aea3872d5bb677f064673c57f\")\n",
    "    data_frame.to_csv(f'../data/raw/{x}.csv', index=False)\n",
    "    years.append(Year(x,data_frame))"
   ]
  }
 ],
 "metadata": {
  "kernelspec": {
   "display_name": "Python 3",
   "language": "python",
   "name": "python3"
  },
  "language_info": {
   "codemirror_mode": {
    "name": "ipython",
    "version": 3
   },
   "file_extension": ".py",
   "mimetype": "text/x-python",
   "name": "python",
   "nbconvert_exporter": "python",
   "pygments_lexer": "ipython3",
   "version": "3.11.1"
  },
  "orig_nbformat": 4,
  "vscode": {
   "interpreter": {
    "hash": "9fffa1fd4f4aff4007db36a593ae7a6873656ff259fede7a7bbf84056ec30413"
   }
  }
 },
 "nbformat": 4,
 "nbformat_minor": 2
}
