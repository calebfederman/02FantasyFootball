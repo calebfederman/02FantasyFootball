{
 "cells": [
  {
   "cell_type": "code",
   "execution_count": 32,
   "metadata": {},
   "outputs": [],
   "source": [
    "import pandas as pd\n",
    "import numpy as np\n",
    "import torch"
   ]
  },
  {
   "cell_type": "code",
   "execution_count": 33,
   "metadata": {},
   "outputs": [
    {
     "data": {
      "text/html": [
       "<div>\n",
       "<style scoped>\n",
       "    .dataframe tbody tr th:only-of-type {\n",
       "        vertical-align: middle;\n",
       "    }\n",
       "\n",
       "    .dataframe tbody tr th {\n",
       "        vertical-align: top;\n",
       "    }\n",
       "\n",
       "    .dataframe thead th {\n",
       "        text-align: right;\n",
       "    }\n",
       "</style>\n",
       "<table border=\"1\" class=\"dataframe\">\n",
       "  <thead>\n",
       "    <tr style=\"text-align: right;\">\n",
       "      <th></th>\n",
       "      <th>Unnamed: 0</th>\n",
       "      <th>Rank</th>\n",
       "      <th>Player</th>\n",
       "      <th>Team</th>\n",
       "      <th>Pos</th>\n",
       "      <th>Age</th>\n",
       "      <th>G</th>\n",
       "      <th>GS</th>\n",
       "      <th>passCmp</th>\n",
       "      <th>passAtt</th>\n",
       "      <th>...</th>\n",
       "      <th>2PP</th>\n",
       "      <th>FantPt</th>\n",
       "      <th>PPR</th>\n",
       "      <th>DKPt</th>\n",
       "      <th>FDPt</th>\n",
       "      <th>VBD</th>\n",
       "      <th>PosRank</th>\n",
       "      <th>OvRank</th>\n",
       "      <th>ID</th>\n",
       "      <th>Year</th>\n",
       "    </tr>\n",
       "  </thead>\n",
       "  <tbody>\n",
       "    <tr>\n",
       "      <th>0</th>\n",
       "      <td>0</td>\n",
       "      <td>1</td>\n",
       "      <td>Priest Holmes*+</td>\n",
       "      <td>KAN</td>\n",
       "      <td>RB</td>\n",
       "      <td>29</td>\n",
       "      <td>14</td>\n",
       "      <td>14</td>\n",
       "      <td>0.0</td>\n",
       "      <td>1.0</td>\n",
       "      <td>...</td>\n",
       "      <td>NaN</td>\n",
       "      <td>371.0</td>\n",
       "      <td>440.7</td>\n",
       "      <td>447.7</td>\n",
       "      <td>405.7</td>\n",
       "      <td>220.0</td>\n",
       "      <td>1</td>\n",
       "      <td>1.0</td>\n",
       "      <td>HolmPr00</td>\n",
       "      <td>2002</td>\n",
       "    </tr>\n",
       "    <tr>\n",
       "      <th>1</th>\n",
       "      <td>1</td>\n",
       "      <td>2</td>\n",
       "      <td>Ricky Williams*+</td>\n",
       "      <td>MIA</td>\n",
       "      <td>RB</td>\n",
       "      <td>25</td>\n",
       "      <td>16</td>\n",
       "      <td>16</td>\n",
       "      <td>0.0</td>\n",
       "      <td>0.0</td>\n",
       "      <td>...</td>\n",
       "      <td>NaN</td>\n",
       "      <td>316.0</td>\n",
       "      <td>362.6</td>\n",
       "      <td>372.6</td>\n",
       "      <td>339.1</td>\n",
       "      <td>165.0</td>\n",
       "      <td>2</td>\n",
       "      <td>2.0</td>\n",
       "      <td>WillRi00</td>\n",
       "      <td>2002</td>\n",
       "    </tr>\n",
       "    <tr>\n",
       "      <th>2</th>\n",
       "      <td>2</td>\n",
       "      <td>3</td>\n",
       "      <td>LaDainian Tomlinson*</td>\n",
       "      <td>SDG</td>\n",
       "      <td>RB</td>\n",
       "      <td>23</td>\n",
       "      <td>16</td>\n",
       "      <td>16</td>\n",
       "      <td>0.0</td>\n",
       "      <td>0.0</td>\n",
       "      <td>...</td>\n",
       "      <td>NaN</td>\n",
       "      <td>305.0</td>\n",
       "      <td>384.2</td>\n",
       "      <td>391.2</td>\n",
       "      <td>344.7</td>\n",
       "      <td>155.0</td>\n",
       "      <td>3</td>\n",
       "      <td>3.0</td>\n",
       "      <td>TomlLa00</td>\n",
       "      <td>2002</td>\n",
       "    </tr>\n",
       "    <tr>\n",
       "      <th>3</th>\n",
       "      <td>3</td>\n",
       "      <td>4</td>\n",
       "      <td>Clinton Portis</td>\n",
       "      <td>DEN</td>\n",
       "      <td>RB</td>\n",
       "      <td>21</td>\n",
       "      <td>16</td>\n",
       "      <td>12</td>\n",
       "      <td>0.0</td>\n",
       "      <td>0.0</td>\n",
       "      <td>...</td>\n",
       "      <td>NaN</td>\n",
       "      <td>283.0</td>\n",
       "      <td>316.2</td>\n",
       "      <td>325.2</td>\n",
       "      <td>299.7</td>\n",
       "      <td>133.0</td>\n",
       "      <td>4</td>\n",
       "      <td>4.0</td>\n",
       "      <td>PortCl00</td>\n",
       "      <td>2002</td>\n",
       "    </tr>\n",
       "    <tr>\n",
       "      <th>4</th>\n",
       "      <td>4</td>\n",
       "      <td>5</td>\n",
       "      <td>Marvin Harrison*+</td>\n",
       "      <td>IND</td>\n",
       "      <td>WR</td>\n",
       "      <td>30</td>\n",
       "      <td>16</td>\n",
       "      <td>16</td>\n",
       "      <td>0.0</td>\n",
       "      <td>0.0</td>\n",
       "      <td>...</td>\n",
       "      <td>NaN</td>\n",
       "      <td>241.0</td>\n",
       "      <td>384.2</td>\n",
       "      <td>387.2</td>\n",
       "      <td>312.7</td>\n",
       "      <td>122.0</td>\n",
       "      <td>1</td>\n",
       "      <td>5.0</td>\n",
       "      <td>HarrMa00</td>\n",
       "      <td>2002</td>\n",
       "    </tr>\n",
       "    <tr>\n",
       "      <th>...</th>\n",
       "      <td>...</td>\n",
       "      <td>...</td>\n",
       "      <td>...</td>\n",
       "      <td>...</td>\n",
       "      <td>...</td>\n",
       "      <td>...</td>\n",
       "      <td>...</td>\n",
       "      <td>...</td>\n",
       "      <td>...</td>\n",
       "      <td>...</td>\n",
       "      <td>...</td>\n",
       "      <td>...</td>\n",
       "      <td>...</td>\n",
       "      <td>...</td>\n",
       "      <td>...</td>\n",
       "      <td>...</td>\n",
       "      <td>...</td>\n",
       "      <td>...</td>\n",
       "      <td>...</td>\n",
       "      <td>...</td>\n",
       "      <td>...</td>\n",
       "    </tr>\n",
       "    <tr>\n",
       "      <th>12579</th>\n",
       "      <td>666</td>\n",
       "      <td>646</td>\n",
       "      <td>Ihmir Smith-Marsette</td>\n",
       "      <td>2TM</td>\n",
       "      <td>WR</td>\n",
       "      <td>23</td>\n",
       "      <td>8</td>\n",
       "      <td>0</td>\n",
       "      <td>0.0</td>\n",
       "      <td>0.0</td>\n",
       "      <td>...</td>\n",
       "      <td>NaN</td>\n",
       "      <td>-1.0</td>\n",
       "      <td>0.4</td>\n",
       "      <td>1.4</td>\n",
       "      <td>-0.1</td>\n",
       "      <td>NaN</td>\n",
       "      <td>252</td>\n",
       "      <td>NaN</td>\n",
       "      <td>SmitIh00</td>\n",
       "      <td>2022</td>\n",
       "    </tr>\n",
       "    <tr>\n",
       "      <th>12580</th>\n",
       "      <td>667</td>\n",
       "      <td>647</td>\n",
       "      <td>KaVontae Turpin*</td>\n",
       "      <td>DAL</td>\n",
       "      <td>WR</td>\n",
       "      <td>26</td>\n",
       "      <td>17</td>\n",
       "      <td>0</td>\n",
       "      <td>0.0</td>\n",
       "      <td>0.0</td>\n",
       "      <td>...</td>\n",
       "      <td>NaN</td>\n",
       "      <td>-1.0</td>\n",
       "      <td>-0.4</td>\n",
       "      <td>1.6</td>\n",
       "      <td>-0.9</td>\n",
       "      <td>NaN</td>\n",
       "      <td>254</td>\n",
       "      <td>NaN</td>\n",
       "      <td>TurpKa00</td>\n",
       "      <td>2022</td>\n",
       "    </tr>\n",
       "    <tr>\n",
       "      <th>12581</th>\n",
       "      <td>668</td>\n",
       "      <td>648</td>\n",
       "      <td>Taiwan Jones</td>\n",
       "      <td>BUF</td>\n",
       "      <td>NaN</td>\n",
       "      <td>34</td>\n",
       "      <td>16</td>\n",
       "      <td>0</td>\n",
       "      <td>0.0</td>\n",
       "      <td>0.0</td>\n",
       "      <td>...</td>\n",
       "      <td>NaN</td>\n",
       "      <td>-2.0</td>\n",
       "      <td>-2.0</td>\n",
       "      <td>-1.0</td>\n",
       "      <td>-2.0</td>\n",
       "      <td>NaN</td>\n",
       "      <td>173</td>\n",
       "      <td>NaN</td>\n",
       "      <td>JoneTa00</td>\n",
       "      <td>2022</td>\n",
       "    </tr>\n",
       "    <tr>\n",
       "      <th>12582</th>\n",
       "      <td>669</td>\n",
       "      <td>649</td>\n",
       "      <td>Chester Rogers</td>\n",
       "      <td>CLE</td>\n",
       "      <td>NaN</td>\n",
       "      <td>28</td>\n",
       "      <td>3</td>\n",
       "      <td>0</td>\n",
       "      <td>0.0</td>\n",
       "      <td>0.0</td>\n",
       "      <td>...</td>\n",
       "      <td>NaN</td>\n",
       "      <td>-2.0</td>\n",
       "      <td>-2.0</td>\n",
       "      <td>-1.0</td>\n",
       "      <td>-2.0</td>\n",
       "      <td>NaN</td>\n",
       "      <td>255</td>\n",
       "      <td>NaN</td>\n",
       "      <td>RogeCh02</td>\n",
       "      <td>2022</td>\n",
       "    </tr>\n",
       "    <tr>\n",
       "      <th>12583</th>\n",
       "      <td>670</td>\n",
       "      <td>650</td>\n",
       "      <td>Tim Boyle</td>\n",
       "      <td>CHI</td>\n",
       "      <td>QB</td>\n",
       "      <td>28</td>\n",
       "      <td>1</td>\n",
       "      <td>0</td>\n",
       "      <td>2.0</td>\n",
       "      <td>8.0</td>\n",
       "      <td>...</td>\n",
       "      <td>NaN</td>\n",
       "      <td>-3.0</td>\n",
       "      <td>-2.9</td>\n",
       "      <td>-0.9</td>\n",
       "      <td>-0.9</td>\n",
       "      <td>NaN</td>\n",
       "      <td>84</td>\n",
       "      <td>NaN</td>\n",
       "      <td>BoylTi00</td>\n",
       "      <td>2022</td>\n",
       "    </tr>\n",
       "  </tbody>\n",
       "</table>\n",
       "<p>12584 rows × 36 columns</p>\n",
       "</div>"
      ],
      "text/plain": [
       "       Unnamed: 0  Rank                Player Team  Pos  Age   G  GS  passCmp  \\\n",
       "0               0     1       Priest Holmes*+  KAN   RB   29  14  14      0.0   \n",
       "1               1     2      Ricky Williams*+  MIA   RB   25  16  16      0.0   \n",
       "2               2     3  LaDainian Tomlinson*  SDG   RB   23  16  16      0.0   \n",
       "3               3     4        Clinton Portis  DEN   RB   21  16  12      0.0   \n",
       "4               4     5     Marvin Harrison*+  IND   WR   30  16  16      0.0   \n",
       "...           ...   ...                   ...  ...  ...  ...  ..  ..      ...   \n",
       "12579         666   646  Ihmir Smith-Marsette  2TM   WR   23   8   0      0.0   \n",
       "12580         667   647      KaVontae Turpin*  DAL   WR   26  17   0      0.0   \n",
       "12581         668   648          Taiwan Jones  BUF  NaN   34  16   0      0.0   \n",
       "12582         669   649        Chester Rogers  CLE  NaN   28   3   0      0.0   \n",
       "12583         670   650             Tim Boyle  CHI   QB   28   1   0      2.0   \n",
       "\n",
       "       passAtt  ...  2PP  FantPt    PPR   DKPt   FDPt    VBD  PosRank  OvRank  \\\n",
       "0          1.0  ...  NaN   371.0  440.7  447.7  405.7  220.0        1     1.0   \n",
       "1          0.0  ...  NaN   316.0  362.6  372.6  339.1  165.0        2     2.0   \n",
       "2          0.0  ...  NaN   305.0  384.2  391.2  344.7  155.0        3     3.0   \n",
       "3          0.0  ...  NaN   283.0  316.2  325.2  299.7  133.0        4     4.0   \n",
       "4          0.0  ...  NaN   241.0  384.2  387.2  312.7  122.0        1     5.0   \n",
       "...        ...  ...  ...     ...    ...    ...    ...    ...      ...     ...   \n",
       "12579      0.0  ...  NaN    -1.0    0.4    1.4   -0.1    NaN      252     NaN   \n",
       "12580      0.0  ...  NaN    -1.0   -0.4    1.6   -0.9    NaN      254     NaN   \n",
       "12581      0.0  ...  NaN    -2.0   -2.0   -1.0   -2.0    NaN      173     NaN   \n",
       "12582      0.0  ...  NaN    -2.0   -2.0   -1.0   -2.0    NaN      255     NaN   \n",
       "12583      8.0  ...  NaN    -3.0   -2.9   -0.9   -0.9    NaN       84     NaN   \n",
       "\n",
       "             ID  Year  \n",
       "0      HolmPr00  2002  \n",
       "1      WillRi00  2002  \n",
       "2      TomlLa00  2002  \n",
       "3      PortCl00  2002  \n",
       "4      HarrMa00  2002  \n",
       "...         ...   ...  \n",
       "12579  SmitIh00  2022  \n",
       "12580  TurpKa00  2022  \n",
       "12581  JoneTa00  2022  \n",
       "12582  RogeCh02  2022  \n",
       "12583  BoylTi00  2022  \n",
       "\n",
       "[12584 rows x 36 columns]"
      ]
     },
     "execution_count": 33,
     "metadata": {},
     "output_type": "execute_result"
    }
   ],
   "source": [
    "data = pd.read_csv(f\"../data/base/sts_ALL.csv\")\n",
    "data"
   ]
  },
  {
   "attachments": {},
   "cell_type": "markdown",
   "metadata": {},
   "source": [
    "Separate data into positional datasets:"
   ]
  },
  {
   "cell_type": "code",
   "execution_count": 34,
   "metadata": {},
   "outputs": [],
   "source": [
    "qb = data[data.Pos == 'QB']\n",
    "rb = data[data.Pos == 'RB']\n",
    "wr = data[data.Pos == 'WR']\n",
    "te = data[data.Pos == 'TE']"
   ]
  },
  {
   "attachments": {},
   "cell_type": "markdown",
   "metadata": {},
   "source": [
    "Of the top 10 scorers at each position, calculate how many also were also in the top 10 the year prior."
   ]
  },
  {
   "attachments": {},
   "cell_type": "markdown",
   "metadata": {},
   "source": [
    "QBs:"
   ]
  },
  {
   "cell_type": "code",
   "execution_count": 35,
   "metadata": {},
   "outputs": [
    {
     "data": {
      "text/plain": [
       "0.49"
      ]
     },
     "execution_count": 35,
     "metadata": {},
     "output_type": "execute_result"
    }
   ],
   "source": [
    "qb_ranks = qb.pivot(index=\"ID\",columns=\"Year\",values=\"PosRank\")\n",
    "count_ab = 0\n",
    "count_b = 0\n",
    "for yr in range(2002,2022,1):\n",
    "    count_b += 10\n",
    "    dataset = qb_ranks[qb_ranks[yr].notnull()&qb_ranks[yr+1].notnull()].sort_values(yr)\n",
    "    for row in dataset.head(10).iterrows():\n",
    "        if ((row[1].get(key=yr)<=10)&(row[1].get(key=yr+1)<=10)):\n",
    "            count_ab+=1\n",
    "count_ab/count_b"
   ]
  },
  {
   "attachments": {},
   "cell_type": "markdown",
   "metadata": {},
   "source": [
    "RBs:"
   ]
  },
  {
   "cell_type": "code",
   "execution_count": 36,
   "metadata": {},
   "outputs": [
    {
     "data": {
      "text/plain": [
       "0.37"
      ]
     },
     "execution_count": 36,
     "metadata": {},
     "output_type": "execute_result"
    }
   ],
   "source": [
    "rb_ranks = rb.pivot(index=\"ID\",columns=\"Year\",values=\"PosRank\")\n",
    "count_ab = 0\n",
    "count_b = 0\n",
    "for yr in range(2002,2022,1):\n",
    "    count_b += 10\n",
    "    dataset = rb_ranks[rb_ranks[yr].notnull()&rb_ranks[yr+1].notnull()].sort_values(yr)\n",
    "    for row in dataset.head(10).iterrows():\n",
    "        if ((row[1].get(key=yr)<=10)&(row[1].get(key=yr+1)<=10)):\n",
    "            count_ab+=1\n",
    "count_ab/count_b"
   ]
  },
  {
   "attachments": {},
   "cell_type": "markdown",
   "metadata": {},
   "source": [
    "WRs:"
   ]
  },
  {
   "cell_type": "code",
   "execution_count": 37,
   "metadata": {},
   "outputs": [
    {
     "data": {
      "text/plain": [
       "0.37"
      ]
     },
     "execution_count": 37,
     "metadata": {},
     "output_type": "execute_result"
    }
   ],
   "source": [
    "wr_ranks = wr.pivot(index=\"ID\",columns=\"Year\",values=\"PosRank\")\n",
    "count_ab = 0\n",
    "count_b = 0\n",
    "for yr in range(2002,2022,1):\n",
    "    count_b += 10\n",
    "    dataset = wr_ranks[wr_ranks[yr].notnull()&wr_ranks[yr+1].notnull()].sort_values(yr)\n",
    "    for row in dataset.head(10).iterrows():\n",
    "        if ((row[1].get(key=yr)<=10)&(row[1].get(key=yr+1)<=10)):\n",
    "            count_ab+=1\n",
    "count_ab/count_b"
   ]
  },
  {
   "attachments": {},
   "cell_type": "markdown",
   "metadata": {},
   "source": [
    "TEs:"
   ]
  },
  {
   "cell_type": "code",
   "execution_count": 38,
   "metadata": {},
   "outputs": [
    {
     "data": {
      "text/plain": [
       "0.485"
      ]
     },
     "execution_count": 38,
     "metadata": {},
     "output_type": "execute_result"
    }
   ],
   "source": [
    "te_ranks = te.pivot(index=\"ID\",columns=\"Year\",values=\"PosRank\")\n",
    "count_ab = 0\n",
    "count_b = 0\n",
    "for yr in range(2002,2022,1):\n",
    "    count_b += 10\n",
    "    dataset = te_ranks[te_ranks[yr].notnull()&te_ranks[yr+1].notnull()].sort_values(yr)\n",
    "    for row in dataset.head(10).iterrows():\n",
    "        if ((row[1].get(key=yr)<=10)&(row[1].get(key=yr+1)<=10)):\n",
    "            count_ab+=1\n",
    "count_ab/count_b"
   ]
  },
  {
   "attachments": {},
   "cell_type": "markdown",
   "metadata": {},
   "source": [
    "Conclusions:<br>\n",
    "49% of top 10 performing Quarterbacks each year repeated in the top 10 the following year<br>\n",
    "37% for Running Backs<br>\n",
    "37% for Wide Receivers<br>\n",
    "49.5% for Tight Ends<br>"
   ]
  },
  {
   "attachments": {},
   "cell_type": "markdown",
   "metadata": {},
   "source": [
    "Top 5:"
   ]
  },
  {
   "attachments": {},
   "cell_type": "markdown",
   "metadata": {},
   "source": [
    "QBs:"
   ]
  },
  {
   "cell_type": "code",
   "execution_count": 39,
   "metadata": {},
   "outputs": [
    {
     "data": {
      "text/plain": [
       "0.33"
      ]
     },
     "execution_count": 39,
     "metadata": {},
     "output_type": "execute_result"
    }
   ],
   "source": [
    "qb_ranks = qb.pivot(index=\"ID\",columns=\"Year\",values=\"PosRank\")\n",
    "count_ab = 0\n",
    "count_b = 0\n",
    "for yr in range(2002,2022,1):\n",
    "    count_b += 5\n",
    "    dataset = qb_ranks[qb_ranks[yr].notnull()&qb_ranks[yr+1].notnull()].sort_values(yr)\n",
    "    for row in dataset.head(5).iterrows():\n",
    "        if ((row[1].get(key=yr)<=5)&(row[1].get(key=yr+1)<=5)):\n",
    "            count_ab+=1\n",
    "count_ab/count_b"
   ]
  },
  {
   "attachments": {},
   "cell_type": "markdown",
   "metadata": {},
   "source": [
    "RBs:"
   ]
  },
  {
   "cell_type": "code",
   "execution_count": 40,
   "metadata": {},
   "outputs": [
    {
     "data": {
      "text/plain": [
       "0.31"
      ]
     },
     "execution_count": 40,
     "metadata": {},
     "output_type": "execute_result"
    }
   ],
   "source": [
    "rb_ranks = rb.pivot(index=\"ID\",columns=\"Year\",values=\"PosRank\")\n",
    "count_ab = 0\n",
    "count_b = 0\n",
    "for yr in range(2002,2022,1):\n",
    "    count_b += 5\n",
    "    dataset = rb_ranks[rb_ranks[yr].notnull()&rb_ranks[yr+1].notnull()].sort_values(yr)\n",
    "    for row in dataset.head(5).iterrows():\n",
    "        if ((row[1].get(key=yr)<=5)&(row[1].get(key=yr+1)<=5)):\n",
    "            count_ab+=1\n",
    "count_ab/count_b"
   ]
  },
  {
   "attachments": {},
   "cell_type": "markdown",
   "metadata": {},
   "source": [
    "WRs:"
   ]
  },
  {
   "cell_type": "code",
   "execution_count": 41,
   "metadata": {},
   "outputs": [
    {
     "data": {
      "text/plain": [
       "0.28"
      ]
     },
     "execution_count": 41,
     "metadata": {},
     "output_type": "execute_result"
    }
   ],
   "source": [
    "wr_ranks = wr.pivot(index=\"ID\",columns=\"Year\",values=\"PosRank\")\n",
    "count_ab = 0\n",
    "count_b = 0\n",
    "for yr in range(2002,2022,1):\n",
    "    count_b += 5\n",
    "    dataset = wr_ranks[wr_ranks[yr].notnull()&wr_ranks[yr+1].notnull()].sort_values(yr)\n",
    "    for row in dataset.head(5).iterrows():\n",
    "        if ((row[1].get(key=yr)<=5)&(row[1].get(key=yr+1)<=5)):\n",
    "            count_ab+=1\n",
    "count_ab/count_b"
   ]
  },
  {
   "attachments": {},
   "cell_type": "markdown",
   "metadata": {},
   "source": [
    "TEs:"
   ]
  },
  {
   "cell_type": "code",
   "execution_count": 42,
   "metadata": {},
   "outputs": [
    {
     "data": {
      "text/plain": [
       "0.48"
      ]
     },
     "execution_count": 42,
     "metadata": {},
     "output_type": "execute_result"
    }
   ],
   "source": [
    "te_ranks = te.pivot(index=\"ID\",columns=\"Year\",values=\"PosRank\")\n",
    "count_ab = 0\n",
    "count_b = 0\n",
    "for yr in range(2002,2022,1):\n",
    "    count_b += 5\n",
    "    dataset = te_ranks[te_ranks[yr].notnull()&te_ranks[yr+1].notnull()].sort_values(yr)\n",
    "    for row in dataset.head(5).iterrows():\n",
    "        if ((row[1].get(key=yr)<=5)&(row[1].get(key=yr+1)<=5)):\n",
    "            count_ab+=1\n",
    "count_ab/count_b"
   ]
  },
  {
   "attachments": {},
   "cell_type": "markdown",
   "metadata": {},
   "source": [
    "Top 3:"
   ]
  },
  {
   "cell_type": "markdown",
   "metadata": {},
   "source": [
    "QBs:"
   ]
  },
  {
   "cell_type": "code",
   "execution_count": 43,
   "metadata": {},
   "outputs": [
    {
     "data": {
      "text/plain": [
       "0.26666666666666666"
      ]
     },
     "execution_count": 43,
     "metadata": {},
     "output_type": "execute_result"
    }
   ],
   "source": [
    "qb_ranks = qb.pivot(index=\"ID\",columns=\"Year\",values=\"PosRank\")\n",
    "count_ab = 0\n",
    "count_b = 0\n",
    "for yr in range(2002,2022,1):\n",
    "    count_b += 3\n",
    "    dataset = qb_ranks[qb_ranks[yr].notnull()&qb_ranks[yr+1].notnull()].sort_values(yr)\n",
    "    for row in dataset.head(3).iterrows():\n",
    "        if ((row[1].get(key=yr)<=3)&(row[1].get(key=yr+1)<=3)):\n",
    "            count_ab+=1\n",
    "count_ab/count_b"
   ]
  },
  {
   "cell_type": "markdown",
   "metadata": {},
   "source": [
    "RBs:"
   ]
  },
  {
   "cell_type": "code",
   "execution_count": 44,
   "metadata": {},
   "outputs": [
    {
     "data": {
      "text/plain": [
       "0.2"
      ]
     },
     "execution_count": 44,
     "metadata": {},
     "output_type": "execute_result"
    }
   ],
   "source": [
    "rb_ranks = rb.pivot(index=\"ID\",columns=\"Year\",values=\"PosRank\")\n",
    "count_ab = 0\n",
    "count_b = 0\n",
    "for yr in range(2002,2022,1):\n",
    "    count_b += 3\n",
    "    dataset = rb_ranks[rb_ranks[yr].notnull()&rb_ranks[yr+1].notnull()].sort_values(yr)\n",
    "    for row in dataset.head(3).iterrows():\n",
    "        if ((row[1].get(key=yr)<=3)&(row[1].get(key=yr+1)<=3)):\n",
    "            count_ab+=1\n",
    "count_ab/count_b"
   ]
  },
  {
   "cell_type": "markdown",
   "metadata": {},
   "source": [
    "WRs:"
   ]
  },
  {
   "cell_type": "code",
   "execution_count": 45,
   "metadata": {},
   "outputs": [
    {
     "data": {
      "text/plain": [
       "0.15"
      ]
     },
     "execution_count": 45,
     "metadata": {},
     "output_type": "execute_result"
    }
   ],
   "source": [
    "wr_ranks = wr.pivot(index=\"ID\",columns=\"Year\",values=\"PosRank\")\n",
    "count_ab = 0\n",
    "count_b = 0\n",
    "for yr in range(2002,2022,1):\n",
    "    count_b += 3\n",
    "    dataset = wr_ranks[wr_ranks[yr].notnull()&wr_ranks[yr+1].notnull()].sort_values(yr)\n",
    "    for row in dataset.head(3).iterrows():\n",
    "        if ((row[1].get(key=yr)<=3)&(row[1].get(key=yr+1)<=3)):\n",
    "            count_ab+=1\n",
    "count_ab/count_b"
   ]
  },
  {
   "cell_type": "markdown",
   "metadata": {},
   "source": [
    "TEs:"
   ]
  },
  {
   "cell_type": "code",
   "execution_count": 46,
   "metadata": {},
   "outputs": [
    {
     "data": {
      "text/plain": [
       "0.4166666666666667"
      ]
     },
     "execution_count": 46,
     "metadata": {},
     "output_type": "execute_result"
    }
   ],
   "source": [
    "te_ranks = te.pivot(index=\"ID\",columns=\"Year\",values=\"PosRank\")\n",
    "count_ab = 0\n",
    "count_b = 0\n",
    "for yr in range(2002,2022,1):\n",
    "    count_b += 3\n",
    "    dataset = te_ranks[te_ranks[yr].notnull()&te_ranks[yr+1].notnull()].sort_values(yr)\n",
    "    for row in dataset.head(3).iterrows():\n",
    "        if ((row[1].get(key=yr)<=3)&(row[1].get(key=yr+1)<=3)):\n",
    "            count_ab+=1\n",
    "count_ab/count_b"
   ]
  },
  {
   "attachments": {},
   "cell_type": "markdown",
   "metadata": {},
   "source": [
    "1 Ovr:"
   ]
  },
  {
   "cell_type": "markdown",
   "metadata": {},
   "source": [
    "QBs:"
   ]
  },
  {
   "cell_type": "code",
   "execution_count": 47,
   "metadata": {},
   "outputs": [
    {
     "data": {
      "text/plain": [
       "0.1"
      ]
     },
     "execution_count": 47,
     "metadata": {},
     "output_type": "execute_result"
    }
   ],
   "source": [
    "qb_ranks = qb.pivot(index=\"ID\",columns=\"Year\",values=\"PosRank\")\n",
    "count_ab = 0\n",
    "count_b = 0\n",
    "for yr in range(2002,2022,1):\n",
    "    count_b += 1\n",
    "    dataset = qb_ranks[qb_ranks[yr].notnull()&qb_ranks[yr+1].notnull()].sort_values(yr)\n",
    "    for row in dataset.head(1).iterrows():\n",
    "        if ((row[1].get(key=yr)<=1)&(row[1].get(key=yr+1)<=1)):\n",
    "            count_ab+=1\n",
    "count_ab/count_b"
   ]
  },
  {
   "cell_type": "markdown",
   "metadata": {},
   "source": [
    "RBs:"
   ]
  },
  {
   "cell_type": "code",
   "execution_count": 48,
   "metadata": {},
   "outputs": [
    {
     "data": {
      "text/plain": [
       "0.2"
      ]
     },
     "execution_count": 48,
     "metadata": {},
     "output_type": "execute_result"
    }
   ],
   "source": [
    "rb_ranks = rb.pivot(index=\"ID\",columns=\"Year\",values=\"PosRank\")\n",
    "count_ab = 0\n",
    "count_b = 0\n",
    "for yr in range(2002,2022,1):\n",
    "    count_b += 1\n",
    "    dataset = rb_ranks[rb_ranks[yr].notnull()&rb_ranks[yr+1].notnull()].sort_values(yr)\n",
    "    for row in dataset.head(1).iterrows():\n",
    "        if ((row[1].get(key=yr)<=1)&(row[1].get(key=yr+1)<=1)):\n",
    "            count_ab+=1\n",
    "count_ab/count_b"
   ]
  },
  {
   "cell_type": "markdown",
   "metadata": {},
   "source": [
    "WRs:"
   ]
  },
  {
   "cell_type": "code",
   "execution_count": 49,
   "metadata": {},
   "outputs": [
    {
     "data": {
      "text/plain": [
       "0.1"
      ]
     },
     "execution_count": 49,
     "metadata": {},
     "output_type": "execute_result"
    }
   ],
   "source": [
    "wr_ranks = wr.pivot(index=\"ID\",columns=\"Year\",values=\"PosRank\")\n",
    "count_ab = 0\n",
    "count_b = 0\n",
    "for yr in range(2002,2022,1):\n",
    "    count_b += 1\n",
    "    dataset = wr_ranks[wr_ranks[yr].notnull()&wr_ranks[yr+1].notnull()].sort_values(yr)\n",
    "    for row in dataset.head(1).iterrows():\n",
    "        if ((row[1].get(key=yr)<=1)&(row[1].get(key=yr+1)<=1)):\n",
    "            count_ab+=1\n",
    "count_ab/count_b"
   ]
  },
  {
   "cell_type": "markdown",
   "metadata": {},
   "source": [
    "TEs:"
   ]
  },
  {
   "cell_type": "code",
   "execution_count": 50,
   "metadata": {},
   "outputs": [
    {
     "data": {
      "text/plain": [
       "0.3"
      ]
     },
     "execution_count": 50,
     "metadata": {},
     "output_type": "execute_result"
    }
   ],
   "source": [
    "te_ranks = te.pivot(index=\"ID\",columns=\"Year\",values=\"PosRank\")\n",
    "count_ab = 0\n",
    "count_b = 0\n",
    "for yr in range(2002,2022,1):\n",
    "    count_b += 1\n",
    "    dataset = te_ranks[te_ranks[yr].notnull()&te_ranks[yr+1].notnull()].sort_values(yr)\n",
    "    for row in dataset.head(1).iterrows():\n",
    "        if ((row[1].get(key=yr)<=1)&(row[1].get(key=yr+1)<=1)):\n",
    "            count_ab+=1\n",
    "count_ab/count_b"
   ]
  },
  {
   "cell_type": "code",
   "execution_count": 51,
   "metadata": {},
   "outputs": [],
   "source": [
    "wr_ranks_ages = wr.pivot(index=\"ID\",columns=\"Age\",values=\"PosRank\")"
   ]
  },
  {
   "cell_type": "code",
   "execution_count": 52,
   "metadata": {},
   "outputs": [
    {
     "data": {
      "text/plain": [
       "<AxesSubplot:xlabel='Age'>"
      ]
     },
     "execution_count": 52,
     "metadata": {},
     "output_type": "execute_result"
    },
    {
     "data": {
      "image/png": "[encoded data removed]",
      "text/plain": [
       "<Figure size 640x480 with 1 Axes>"
      ]
     },
     "metadata": {},
     "output_type": "display_data"
    }
   ],
   "source": [
    "wr_ranks_ages[wr_ranks_ages <= 10].count().plot.bar()"
   ]
  },
  {
   "cell_type": "code",
   "execution_count": 53,
   "metadata": {},
   "outputs": [
    {
     "data": {
      "text/plain": [
       "<AxesSubplot:xlabel='Age'>"
      ]
     },
     "execution_count": 53,
     "metadata": {},
     "output_type": "execute_result"
    },
    {
     "data": {
      "image/png": "[encoded data removed]",
      "text/plain": [
       "<Figure size 640x480 with 1 Axes>"
      ]
     },
     "metadata": {},
     "output_type": "display_data"
    }
   ],
   "source": [
    "wr_ranks_ages[wr_ranks_ages <= 5].count().plot.bar()"
   ]
  },
  {
   "cell_type": "code",
   "execution_count": 54,
   "metadata": {},
   "outputs": [
    {
     "data": {
      "text/plain": [
       "<AxesSubplot:xlabel='Age'>"
      ]
     },
     "execution_count": 54,
     "metadata": {},
     "output_type": "execute_result"
    },
    {
     "data": {
      "image/png": "[encoded data removed]",
      "text/plain": [
       "<Figure size 640x480 with 1 Axes>"
      ]
     },
     "metadata": {},
     "output_type": "display_data"
    }
   ],
   "source": [
    "wr_ranks_ages[wr_ranks_ages <= 3].count().plot.bar()"
   ]
  },
  {
   "cell_type": "code",
   "execution_count": 55,
   "metadata": {},
   "outputs": [
    {
     "data": {
      "text/plain": [
       "<AxesSubplot:xlabel='Age'>"
      ]
     },
     "execution_count": 55,
     "metadata": {},
     "output_type": "execute_result"
    },
    {
     "data": {
      "image/png": "[encoded data removed]",
      "text/plain": [
       "<Figure size 640x480 with 1 Axes>"
      ]
     },
     "metadata": {},
     "output_type": "display_data"
    }
   ],
   "source": [
    "wr_ranks_ages[wr_ranks_ages <= 1].count().plot.bar()"
   ]
  },
  {
   "cell_type": "code",
   "execution_count": 56,
   "metadata": {},
   "outputs": [],
   "source": [
    "rb_ranks_ages = rb.pivot(index=\"ID\",columns=\"Age\",values=\"PosRank\")"
   ]
  },
  {
   "cell_type": "code",
   "execution_count": 57,
   "metadata": {},
   "outputs": [
    {
     "data": {
      "text/plain": [
       "<AxesSubplot:xlabel='Age'>"
      ]
     },
     "execution_count": 57,
     "metadata": {},
     "output_type": "execute_result"
    },
    {
     "data": {
      "image/png": "[encoded data removed]",
      "text/plain": [
       "<Figure size 640x480 with 1 Axes>"
      ]
     },
     "metadata": {},
     "output_type": "display_data"
    }
   ],
   "source": [
    "rb_ranks_ages[rb_ranks_ages <= 10].count().plot.bar()"
   ]
  },
  {
   "cell_type": "code",
   "execution_count": 58,
   "metadata": {},
   "outputs": [
    {
     "data": {
      "text/plain": [
       "Age\n",
       "21     5\n",
       "22     8\n",
       "23    13\n",
       "24    18\n",
       "25    16\n",
       "26    17\n",
       "27     9\n",
       "28     9\n",
       "29     3\n",
       "30     4\n",
       "31     2\n",
       "32     1\n",
       "33     0\n",
       "34     0\n",
       "35     0\n",
       "36     0\n",
       "37     0\n",
       "38     0\n",
       "39     0\n",
       "dtype: int64"
      ]
     },
     "execution_count": 58,
     "metadata": {},
     "output_type": "execute_result"
    },
    {
     "data": {
      "image/png": "[encoded data removed]",
      "text/plain": [
       "<Figure size 640x480 with 1 Axes>"
      ]
     },
     "metadata": {},
     "output_type": "display_data"
    }
   ],
   "source": [
    "rb_ranks_ages[rb_ranks_ages <= 5].count().plot.bar()\n",
    "rb_ranks_ages[rb_ranks_ages <= 5].count()"
   ]
  },
  {
   "cell_type": "code",
   "execution_count": 59,
   "metadata": {},
   "outputs": [
    {
     "data": {
      "text/plain": [
       "Age\n",
       "21     2\n",
       "22     4\n",
       "23     8\n",
       "24    10\n",
       "25    12\n",
       "26    11\n",
       "27     5\n",
       "28     7\n",
       "29     2\n",
       "30     2\n",
       "31     0\n",
       "32     0\n",
       "33     0\n",
       "34     0\n",
       "35     0\n",
       "36     0\n",
       "37     0\n",
       "38     0\n",
       "39     0\n",
       "dtype: int64"
      ]
     },
     "execution_count": 59,
     "metadata": {},
     "output_type": "execute_result"
    },
    {
     "data": {
      "image/png": "[encoded data removed]",
      "text/plain": [
       "<Figure size 640x480 with 1 Axes>"
      ]
     },
     "metadata": {},
     "output_type": "display_data"
    }
   ],
   "source": [
    "rb_ranks_ages[rb_ranks_ages <= 3].count().plot.bar()\n",
    "rb_ranks_ages[rb_ranks_ages <= 3].count()"
   ]
  },
  {
   "cell_type": "code",
   "execution_count": 60,
   "metadata": {},
   "outputs": [
    {
     "data": {
      "text/plain": [
       "Age\n",
       "21    0\n",
       "22    1\n",
       "23    3\n",
       "24    5\n",
       "25    2\n",
       "26    2\n",
       "27    4\n",
       "28    2\n",
       "29    1\n",
       "30    1\n",
       "31    0\n",
       "32    0\n",
       "33    0\n",
       "34    0\n",
       "35    0\n",
       "36    0\n",
       "37    0\n",
       "38    0\n",
       "39    0\n",
       "dtype: int64"
      ]
     },
     "execution_count": 60,
     "metadata": {},
     "output_type": "execute_result"
    },
    {
     "data": {
      "image/png": "[encoded data removed]",
      "text/plain": [
       "<Figure size 640x480 with 1 Axes>"
      ]
     },
     "metadata": {},
     "output_type": "display_data"
    }
   ],
   "source": [
    "rb_ranks_ages[rb_ranks_ages <= 1].count().plot.bar()\n",
    "rb_ranks_ages[rb_ranks_ages <= 1].count()"
   ]
  },
  {
   "cell_type": "code",
   "execution_count": null,
   "metadata": {},
   "outputs": [],
   "source": []
  }
 ],
 "metadata": {
  "kernelspec": {
   "display_name": "base",
   "language": "python",
   "name": "python3"
  },
  "language_info": {
   "codemirror_mode": {
    "name": "ipython",
    "version": 3
   },
   "file_extension": ".py",
   "mimetype": "text/x-python",
   "name": "python",
   "nbconvert_exporter": "python",
   "pygments_lexer": "ipython3",
   "version": "3.9.13"
  },
  "orig_nbformat": 4,
  "vscode": {
   "interpreter": {
    "hash": "f50a862be595a607eac0cf64d167bab6adbcfde84106554ca09d96a6efd3ac6f"
   }
  }
 },
 "nbformat": 4,
 "nbformat_minor": 2
}
