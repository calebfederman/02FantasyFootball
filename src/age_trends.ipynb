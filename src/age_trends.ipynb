{
 "cells": [
  {
   "attachments": {},
   "cell_type": "markdown",
   "metadata": {},
   "source": [
    "Analyzing historical age trends of fantasy football players by position:"
   ]
  },
  {
   "cell_type": "code",
   "execution_count": null,
   "metadata": {},
   "outputs": [],
   "source": [
    "import pandas as pd\n",
    "import numpy as np"
   ]
  },
  {
   "attachments": {},
   "cell_type": "markdown",
   "metadata": {},
   "source": [
    "Create DataFrame of all qualified players, then separate by position:"
   ]
  },
  {
   "cell_type": "code",
   "execution_count": null,
   "metadata": {},
   "outputs": [],
   "source": [
    "qual = pd.read_csv(\"../data/qualified_sts.csv\")\n",
    "qb_qual = qual[qual['Pos']=='QB'].pivot(index='ID',columns='Age',values='PPR')\n",
    "rb_qual = qual[qual['Pos']=='RB'].pivot(index='ID',columns='Age',values='PPR')\n",
    "wr_qual = qual[qual['Pos']=='WR'].pivot(index='ID',columns='Age',values='PPR')\n",
    "te_qual = qual[qual['Pos']=='TE'].pivot(index='ID',columns='Age',values='PPR')"
   ]
  },
  {
   "attachments": {},
   "cell_type": "markdown",
   "metadata": {},
   "source": [
    "Determine age trends for each position by calculating 2nd degree polynomial regression lines of the average points scored at each age:"
   ]
  },
  {
   "cell_type": "code",
   "execution_count": null,
   "metadata": {},
   "outputs": [],
   "source": [
    "y = []\n",
    "for i in range(21,38,1):\n",
    "    y.append(qb_qual[i].quantile(q=0.5))\n",
    "x = range(21,38,1)\n",
    "qb = np.polyfit(x,y,2)"
   ]
  },
  {
   "cell_type": "code",
   "execution_count": null,
   "metadata": {},
   "outputs": [],
   "source": [
    "y = []\n",
    "for i in range(21,34,1):\n",
    "    y.append(rb_qual[i].quantile(q=0.8))\n",
    "x = range(21,34,1)\n",
    "rb = np.polyfit(x,y,2)"
   ]
  },
  {
   "cell_type": "code",
   "execution_count": null,
   "metadata": {},
   "outputs": [],
   "source": [
    "y = []\n",
    "for i in range(21,35,1):\n",
    "    y.append(wr_qual[i].quantile(q=0.8))\n",
    "x = range(21,35,1)\n",
    "wr = np.polyfit(x,y,2)"
   ]
  },
  {
   "cell_type": "code",
   "execution_count": null,
   "metadata": {},
   "outputs": [],
   "source": [
    "y = []\n",
    "for i in range(21,38,1):\n",
    "    y.append(te_qual[i].quantile(q=0.8))\n",
    "x = range(21,38,1)\n",
    "te = np.polyfit(x,y,2)"
   ]
  },
  {
   "cell_type": "code",
   "execution_count": null,
   "metadata": {},
   "outputs": [],
   "source": []
  }
 ],
 "metadata": {
  "kernelspec": {
   "display_name": "base",
   "language": "python",
   "name": "python3"
  },
  "language_info": {
   "codemirror_mode": {
    "name": "ipython",
    "version": 3
   },
   "file_extension": ".py",
   "mimetype": "text/x-python",
   "name": "python",
   "nbconvert_exporter": "python",
   "pygments_lexer": "ipython3",
   "version": "3.9.13"
  },
  "orig_nbformat": 4
 },
 "nbformat": 4,
 "nbformat_minor": 2
}
